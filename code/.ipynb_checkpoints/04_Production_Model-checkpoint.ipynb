{
 "cells": [
  {
   "cell_type": "markdown",
   "metadata": {},
   "source": [
    "# Production Model"
   ]
  },
  {
   "cell_type": "markdown",
   "metadata": {},
   "source": [
    "For my production model, I have chosen to go with ridge regression, as it had the lowest RMSE out of all of my models. "
   ]
  },
  {
   "cell_type": "markdown",
   "metadata": {},
   "source": [
    "Theoretically, to improve my ridge regression model, I would adjust the alphas and number of cross validations, as shown below.  "
   ]
  },
  {
   "cell_type": "code",
   "execution_count": 3,
   "metadata": {},
   "outputs": [],
   "source": [
    "import pandas as pd\n",
    "from sklearn.linear_model import Ridge, RidgeCV\n",
    "from sklearn.metrics import r2_score\n",
    "import matplotlib.pyplot as plt\n",
    "import pickle\n",
    "import numpy as np\n",
    "np.random.seed(42)\n",
    "\n",
    "%matplotlib inline"
   ]
  },
  {
   "cell_type": "code",
   "execution_count": 4,
   "metadata": {},
   "outputs": [],
   "source": [
    "X = pd.read_pickle(\"../datasets/training_data_cleaned_X.pkl\")\n",
    "y = pd.read_pickle(\"../datasets/training_data_cleaned_y.pkl\")\n",
    "X_train_sc = np.load('../datasets/X_train_sc.npy')\n",
    "X_test_sc = np.load('../datasets/X_test_sc.npy')\n",
    "y_train = np.load('../datasets/y_train.npy')\n",
    "y_test = np.load('../datasets/y_test.npy')"
   ]
  },
  {
   "cell_type": "code",
   "execution_count": 5,
   "metadata": {},
   "outputs": [],
   "source": [
    "# Set up a list of ridge alphas to check.\n",
    "r_alphas = np.logspace(0, 100, 100)\n",
    "# Generates 100 values equally between 0 and 100,\n",
    "# then converts them to alphas between 10^0 and 10^100.\n",
    "\n",
    "# Cross-validate over our list of ridge alphas.\n",
    "ridge_model = RidgeCV(alphas=r_alphas, scoring='r2', cv=5)\n",
    "\n",
    "# Fit model using best ridge alpha!\n",
    "ridge_model = ridge_model.fit(X_train_sc, y_train)"
   ]
  },
  {
   "cell_type": "code",
   "execution_count": 6,
   "metadata": {},
   "outputs": [
    {
     "data": {
      "text/plain": [
       "1072.2672220103232"
      ]
     },
     "execution_count": 6,
     "metadata": {},
     "output_type": "execute_result"
    }
   ],
   "source": [
    "ridge_optimal_alpha = ridge_model.alpha_\n",
    "ridge_optimal_alpha"
   ]
  },
  {
   "cell_type": "code",
   "execution_count": 7,
   "metadata": {},
   "outputs": [
    {
     "name": "stdout",
     "output_type": "stream",
     "text": [
      "The r2 score of the training set is 0.8629541544419306.\n",
      "The r2 score of the test set is 0.8950290182875826.\n"
     ]
    }
   ],
   "source": [
    "ridge_model_preds = ridge_model.predict(X_test_sc)\n",
    "ridge_model_preds_train = ridge_model.predict(X_train_sc)\n",
    "ridge_model_preds_r2 = r2_score(y_test, ridge_model_preds)\n",
    "ridge_model_preds_train_r2 = r2_score(y_train, ridge_model_preds_train)\n",
    "print(f\"The r2 score of the training set is {ridge_model_preds_train_r2}.\")\n",
    "print(f\"The r2 score of the test set is {ridge_model_preds_r2}.\")"
   ]
  },
  {
   "cell_type": "code",
   "execution_count": 8,
   "metadata": {},
   "outputs": [
    {
     "data": {
      "text/plain": [
       "25387.48557221171"
      ]
     },
     "execution_count": 8,
     "metadata": {},
     "output_type": "execute_result"
    }
   ],
   "source": [
    "def RMSE(true, predicted):\n",
    "    diff = true - predicted\n",
    "    squared_diff = np.square(diff)\n",
    "    return np.mean(squared_diff)**0.5\n",
    "RMSE(y_test,ridge_model.predict(X_test_sc))"
   ]
  },
  {
   "cell_type": "markdown",
   "metadata": {},
   "source": [
    "As you can see, increasing the range of my alphas made my RMSE larger. This means that if I increase the range of my alphas, then my model will become less accurate. "
   ]
  },
  {
   "cell_type": "markdown",
   "metadata": {},
   "source": [
    "Now let's try decreasing their range. "
   ]
  },
  {
   "cell_type": "code",
   "execution_count": 9,
   "metadata": {},
   "outputs": [],
   "source": [
    "# Set up a list of ridge alphas to check.\n",
    "r_alphas = np.logspace(0, 1, 100)\n",
    "# Generates 100 values equally between 0 and 1,\n",
    "# then converts them to alphas between 10^0 and 10^1.\n",
    "\n",
    "# Cross-validate over our list of ridge alphas.\n",
    "ridge_model = RidgeCV(alphas=r_alphas, scoring='r2', cv=5)\n",
    "\n",
    "# Fit model using best ridge alpha!\n",
    "ridge_model = ridge_model.fit(X_train_sc, y_train)"
   ]
  },
  {
   "cell_type": "code",
   "execution_count": 10,
   "metadata": {},
   "outputs": [
    {
     "data": {
      "text/plain": [
       "10.0"
      ]
     },
     "execution_count": 10,
     "metadata": {},
     "output_type": "execute_result"
    }
   ],
   "source": [
    "ridge_optimal_alpha = ridge_model.alpha_\n",
    "ridge_optimal_alpha"
   ]
  },
  {
   "cell_type": "code",
   "execution_count": 11,
   "metadata": {},
   "outputs": [
    {
     "name": "stdout",
     "output_type": "stream",
     "text": [
      "The r2 score of the training set is 0.8914105528878845.\n",
      "The r2 score of the test set is 0.8997795421952295.\n"
     ]
    }
   ],
   "source": [
    "ridge_model_preds = ridge_model.predict(X_test_sc)\n",
    "ridge_model_preds_train = ridge_model.predict(X_train_sc)\n",
    "ridge_model_preds_r2 = r2_score(y_test, ridge_model_preds)\n",
    "ridge_model_preds_train_r2 = r2_score(y_train, ridge_model_preds_train)\n",
    "print(f\"The r2 score of the training set is {ridge_model_preds_train_r2}.\")\n",
    "print(f\"The r2 score of the test set is {ridge_model_preds_r2}.\")"
   ]
  },
  {
   "cell_type": "code",
   "execution_count": 12,
   "metadata": {},
   "outputs": [
    {
     "data": {
      "text/plain": [
       "24806.371951665413"
      ]
     },
     "execution_count": 12,
     "metadata": {},
     "output_type": "execute_result"
    }
   ],
   "source": [
    "RMSE(y_test,ridge_model.predict(X_test_sc))"
   ]
  },
  {
   "cell_type": "markdown",
   "metadata": {},
   "source": [
    "Decreasing the range of my alphas made them larger as well, althought not as much as when I increased them. "
   ]
  },
  {
   "cell_type": "markdown",
   "metadata": {},
   "source": [
    "It appears that I have to be more careful about how I adjust the range of my alpha values in order to get a lowered MSE. "
   ]
  },
  {
   "cell_type": "code",
   "execution_count": null,
   "metadata": {},
   "outputs": [],
   "source": []
  }
 ],
 "metadata": {
  "kernelspec": {
   "display_name": "Python 3",
   "language": "python",
   "name": "python3"
  },
  "language_info": {
   "codemirror_mode": {
    "name": "ipython",
    "version": 3
   },
   "file_extension": ".py",
   "mimetype": "text/x-python",
   "name": "python",
   "nbconvert_exporter": "python",
   "pygments_lexer": "ipython3",
   "version": "3.7.1"
  }
 },
 "nbformat": 4,
 "nbformat_minor": 2
}
