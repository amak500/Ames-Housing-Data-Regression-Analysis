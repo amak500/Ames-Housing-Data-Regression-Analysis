{
 "cells": [
  {
   "cell_type": "markdown",
   "metadata": {},
   "source": [
    "## Kaggle Submission"
   ]
  },
  {
   "cell_type": "markdown",
   "metadata": {},
   "source": [
    "The purpose of this notebook is to use the production model that we chose earlier, ridge regression in this case, to predict the sale price of the test data we were given and upload that to Kaggle. "
   ]
  },
  {
   "cell_type": "code",
   "execution_count": 46,
   "metadata": {},
   "outputs": [],
   "source": [
    "import numpy as np \n",
    "import seaborn as sns\n",
    "import matplotlib.pyplot as plt\n",
    "import pandas as pd\n",
    "from sklearn.linear_model import RidgeCV\n",
    "from sklearn.preprocessing import StandardScaler\n",
    "from sklearn.feature_selection import VarianceThreshold\n",
    "from sklearn.model_selection import train_test_split\n",
    "import pickle\n",
    "import csv\n",
    "import re\n",
    "import time\n",
    "np.random.seed(42)\n",
    "%config InlineBackend.figure_format = 'retina'\n",
    "%matplotlib inline"
   ]
  },
  {
   "cell_type": "markdown",
   "metadata": {},
   "source": [
    "This imports all of the models we need. "
   ]
  },
  {
   "cell_type": "code",
   "execution_count": 47,
   "metadata": {},
   "outputs": [],
   "source": [
    "X = pd.read_pickle(\"../datasets/training_data_cleaned_X.pkl\")\n",
    "y = pd.read_pickle(\"../datasets/training_data_cleaned_y.pkl\")\n",
    "X_train_sc = np.load('../datasets/X_train_sc.npy')\n",
    "X_test_sc = np.load('../datasets/X_test_sc.npy')\n",
    "y_train = np.load('../datasets/y_train.npy')\n",
    "y_test = np.load('../datasets/y_test.npy')\n",
    "ss = pickle.load(open('../datasets/ss.sav', 'rb'))\n",
    "columns = np.load('../datasets/columns.npy')"
   ]
  },
  {
   "cell_type": "markdown",
   "metadata": {},
   "source": [
    "This imports all of the data we need. "
   ]
  },
  {
   "cell_type": "code",
   "execution_count": 48,
   "metadata": {},
   "outputs": [],
   "source": [
    "\n",
    "kaggle_data = pd.read_csv('../datasets/test.csv',index_col = 'Id')"
   ]
  },
  {
   "cell_type": "code",
   "execution_count": 49,
   "metadata": {},
   "outputs": [
    {
     "data": {
      "text/plain": [
       "Pool QC            875\n",
       "Misc Feature       838\n",
       "Alley              821\n",
       "Fence              707\n",
       "Fireplace Qu       422\n",
       "Lot Frontage       160\n",
       "Garage Cond         45\n",
       "Garage Qual         45\n",
       "Garage Yr Blt       45\n",
       "Garage Finish       45\n",
       "Garage Type         44\n",
       "BsmtFin Type 1      25\n",
       "Bsmt Exposure       25\n",
       "Bsmt Qual           25\n",
       "Bsmt Cond           25\n",
       "BsmtFin Type 2      25\n",
       "Mas Vnr Area         1\n",
       "Electrical           1\n",
       "Mas Vnr Type         1\n",
       "Year Built           0\n",
       "Exter Qual           0\n",
       "Exter Cond           0\n",
       "Foundation           0\n",
       "Exterior 2nd         0\n",
       "Exterior 1st         0\n",
       "Roof Matl            0\n",
       "Roof Style           0\n",
       "Year Remod/Add       0\n",
       "Sale Type            0\n",
       "Overall Cond         0\n",
       "                  ... \n",
       "Misc Val             0\n",
       "Pool Area            0\n",
       "Screen Porch         0\n",
       "3Ssn Porch           0\n",
       "Enclosed Porch       0\n",
       "Open Porch SF        0\n",
       "Wood Deck SF         0\n",
       "Paved Drive          0\n",
       "Garage Area          0\n",
       "Garage Cars          0\n",
       "Fireplaces           0\n",
       "Functional           0\n",
       "TotRms AbvGrd        0\n",
       "Kitchen AbvGr        0\n",
       "BsmtFin SF 2         0\n",
       "Bedroom AbvGr        0\n",
       "Half Bath            0\n",
       "Full Bath            0\n",
       "Bsmt Half Bath       0\n",
       "Bsmt Full Bath       0\n",
       "Gr Liv Area          0\n",
       "Low Qual Fin SF      0\n",
       "2nd Flr SF           0\n",
       "1st Flr SF           0\n",
       "Central Air          0\n",
       "Heating QC           0\n",
       "Yr Sold              0\n",
       "Total Bsmt SF        0\n",
       "Bsmt Unf SF          0\n",
       "PID                  0\n",
       "Length: 79, dtype: int64"
      ]
     },
     "execution_count": 49,
     "metadata": {},
     "output_type": "execute_result"
    }
   ],
   "source": [
    "kaggle_data.isnull().sum().sort_values(ascending=False)"
   ]
  },
  {
   "cell_type": "markdown",
   "metadata": {},
   "source": [
    "As you can see from the above, there are 19 columns with some amount of missing values. I will now proceed to replace the null values the same way as I did for the training set. "
   ]
  },
  {
   "cell_type": "code",
   "execution_count": 50,
   "metadata": {},
   "outputs": [],
   "source": [
    "na_replacement_values = {\n",
    "    'Pool QC'   : 'No pool',         \n",
    "    'Misc Feature' : 'No feature',      \n",
    "    'Alley'         : 'No alley access',    \n",
    "    'Fence'          : 'No fence',   \n",
    "    'Fireplace Qu'    : 'No Fireplace',  \n",
    "    'Lot Frontage'  : 0,\n",
    "    'Garage Finish'  : 'No Garage'   ,  \n",
    "    'Garage Cond'     : 'No Garage'  , \n",
    "    'Garage Qual'      : 'No Garage',  \n",
    "    'Garage Yr Blt'  : 0,\n",
    "    'Garage Type'     : 'No Garage',   \n",
    "    'Bsmt Exposure'    : 'No Basement',   \n",
    "    'BsmtFin Type 2'    : 'No Basement',  \n",
    "    'BsmtFin Type 1'     : 'No Basement',\n",
    "    'Bsmt Cond'           : 'No Basement',\n",
    "    'Bsmt Qual'            : 'No Basement',\n",
    "    'Mas Vnr Type'         : 'None',\n",
    "    'Mas Vnr Area'         : 0,\n",
    "    'Bsmt Half Bath'        : 'No Basement',\n",
    "    'Bsmt Full Bath'        : 'No Basement',\n",
    "    'Garage Cars'           : 0,\n",
    "    'Garage Area'           : 0,\n",
    "    'Bsmt Unf SF'           : 0,\n",
    "    'BsmtFin SF 2'          : 0,\n",
    "    'Total Bsmt SF'         : 0,\n",
    "    'BsmtFin SF 1'          : 0,                        \n",
    "}"
   ]
  },
  {
   "cell_type": "code",
   "execution_count": 51,
   "metadata": {},
   "outputs": [],
   "source": [
    "kaggle_data.fillna(value=na_replacement_values,inplace=True)"
   ]
  },
  {
   "cell_type": "code",
   "execution_count": 52,
   "metadata": {},
   "outputs": [
    {
     "data": {
      "text/plain": [
       "Electrical    1\n",
       "Sale Type     0\n",
       "Exter Cond    0\n",
       "Roof Style    0\n",
       "Roof Matl     0\n",
       "dtype: int64"
      ]
     },
     "execution_count": 52,
     "metadata": {},
     "output_type": "execute_result"
    }
   ],
   "source": [
    "kaggle_data.isnull().sum().sort_values(ascending=False).head(5)"
   ]
  },
  {
   "cell_type": "markdown",
   "metadata": {},
   "source": [
    "I will now replace the null value of the Electrical column with the column's most common value, as there is no option for me to put that there is no electricity. "
   ]
  },
  {
   "cell_type": "code",
   "execution_count": 53,
   "metadata": {},
   "outputs": [],
   "source": [
    "kaggle_data['Electrical'].fillna(value = 'SBrkr',inplace=True)"
   ]
  },
  {
   "cell_type": "code",
   "execution_count": 54,
   "metadata": {},
   "outputs": [
    {
     "data": {
      "text/plain": [
       "Sale Type       0\n",
       "Exter Cond      0\n",
       "Roof Style      0\n",
       "Roof Matl       0\n",
       "Exterior 1st    0\n",
       "dtype: int64"
      ]
     },
     "execution_count": 54,
     "metadata": {},
     "output_type": "execute_result"
    }
   ],
   "source": [
    "kaggle_data.isnull().sum().sort_values(ascending=False).head(5)"
   ]
  },
  {
   "cell_type": "markdown",
   "metadata": {},
   "source": [
    "Thus, I have now replaced every null value in the test dataset with an appropriate value instead. "
   ]
  },
  {
   "cell_type": "code",
   "execution_count": 55,
   "metadata": {},
   "outputs": [],
   "source": [
    "neighborhood_replacement_values = {\n",
    "       'Blmngtn': 'Bloomington Heights',\n",
    "       'Blueste': 'Bluestem',\n",
    "       'BrDale': 'Briardale',\n",
    "       'BrkSide': 'Brookside',\n",
    "       'ClearCr': 'Clear Creek',\n",
    "       'CollgCr': 'College Creek',\n",
    "       'Crawfor': 'Crawford',\n",
    "       'Edwards': 'Edwards',\n",
    "       'Gilbert': 'Gilbert',\n",
    "       'Greens': 'Greens',\n",
    "       'GrnHill': 'Green Hills',\n",
    "       'IDOTRR': 'Iowa DOT and Rail Road',\n",
    "       'Landmrk': 'Landmark',\n",
    "       'MeadowV': 'Meadow Village',\n",
    "       'Mitchel': 'Mitchell',\n",
    "       'Names': 'North Ames',\n",
    "       'NoRidge': 'Northridge',\n",
    "       'NPkVill': 'Northpark Villa',\n",
    "       'NridgHt': 'Northridge Heights',\n",
    "       'NWAmes': 'Northwest Ames',\n",
    "       'OldTown': 'Old Town',\n",
    "       'SWISU': 'South & West of Iowa State University',\n",
    "       'Sawyer': 'Sawyer',\n",
    "       'SawyerW': 'Sawyer West',\n",
    "       'Somerst': 'Somerset',\n",
    "       'StoneBr': 'Stone Brook',\n",
    "       'Timber': 'Timberland',\n",
    "       'Veenker': 'Veenker'\n",
    "}"
   ]
  },
  {
   "cell_type": "code",
   "execution_count": 56,
   "metadata": {},
   "outputs": [],
   "source": [
    "kaggle_data['Neighborhood'].replace(neighborhood_replacement_values,inplace=True)"
   ]
  },
  {
   "cell_type": "markdown",
   "metadata": {},
   "source": [
    "I have now replaced all of the kaggle data neighborhood name abbreviations in order to make them more human readable. "
   ]
  },
  {
   "cell_type": "code",
   "execution_count": 57,
   "metadata": {},
   "outputs": [],
   "source": [
    "ms_subclass_replacement_values = {\n",
    "       20 :'1-STORY 1946 & NEWER ALL STYLES',\n",
    "       30 : '1-STORY 1945 & OLDER',\n",
    "       40 : '1-STORY W/FINISHED ATTIC ALL AGES',\n",
    "       45 : '1-1/2 STORY - UNFINISHED ALL AGES',\n",
    "       50 : '1-1/2 STORY FINISHED ALL AGES',\n",
    "       60 : '2-STORY 1946 & NEWER',\n",
    "       70 : '2-STORY 1945 & OLDER',\n",
    "       75 : '2-1/2 STORY ALL AGES',\n",
    "       80 : 'SPLIT OR MULTI-LEVEL',\n",
    "       85 : 'SPLIT FOYER',\n",
    "       90 : 'DUPLEX - ALL STYLES AND AGES',\n",
    "       120 : '1-STORY PUD (Planned Unit Development) - 1946 & NEWER',\n",
    "       150 : '1-1/2 STORY PUD - ALL AGES',\n",
    "       160 : '2-STORY PUD - 1946 & NEWER',\n",
    "       180 : 'PUD - MULTILEVEL - INCL SPLIT LEV/FOYER',\n",
    "       190 : '2 FAMILY CONVERSION - ALL STYLES AND AGES',\n",
    "\n",
    "    \n",
    "}"
   ]
  },
  {
   "cell_type": "code",
   "execution_count": 58,
   "metadata": {},
   "outputs": [],
   "source": [
    "kaggle_data['MS SubClass'].replace(ms_subclass_replacement_values, inplace = True)"
   ]
  },
  {
   "cell_type": "markdown",
   "metadata": {},
   "source": [
    "I am replacing the MS SubClass abbreviations to make them more human readable."
   ]
  },
  {
   "cell_type": "code",
   "execution_count": 59,
   "metadata": {},
   "outputs": [],
   "source": [
    "ms_zoning_replacement_values = {\n",
    "       'A' : 'Agriculture',\n",
    "       'C' : 'Commercial',\n",
    "       'FV' : 'Floating Village Residential',\n",
    "       'I' : 'Industrial',\n",
    "       'RH' : 'Residential High Density',\n",
    "       'RL' : 'Residential Low Density',\n",
    "       'RP' : 'Residential Low Density Park', \n",
    "       'RM' : 'Residential Medium Density'\n",
    "}"
   ]
  },
  {
   "cell_type": "code",
   "execution_count": 60,
   "metadata": {},
   "outputs": [],
   "source": [
    "kaggle_data['MS Zoning'].replace(ms_zoning_replacement_values, inplace = True)"
   ]
  },
  {
   "cell_type": "markdown",
   "metadata": {},
   "source": [
    "I am replacing the MS Zoning abbreviations to make them more human readable. "
   ]
  },
  {
   "cell_type": "code",
   "execution_count": 61,
   "metadata": {},
   "outputs": [],
   "source": [
    "month_replacement_values = {\n",
    "    1 : 'January',\n",
    "    2 : 'February',\n",
    "    3 : 'March',\n",
    "    4 : 'April',\n",
    "    5 : 'May',\n",
    "    6 : 'June',\n",
    "    7 : 'July',\n",
    "    8 : 'August',\n",
    "    9 : 'September',\n",
    "    10 : 'October',\n",
    "    11 : 'November',\n",
    "    12 : 'December',\n",
    "}"
   ]
  },
  {
   "cell_type": "code",
   "execution_count": 62,
   "metadata": {},
   "outputs": [],
   "source": [
    "kaggle_data['Mo Sold'].replace(month_replacement_values, inplace = True)"
   ]
  },
  {
   "cell_type": "code",
   "execution_count": 63,
   "metadata": {},
   "outputs": [],
   "source": [
    "kaggle_data['Mo Sold'] = kaggle_data['Mo Sold'].astype('object')\n",
    "kaggle_data['Yr Sold'] = kaggle_data['Yr Sold'].astype('object')\n",
    "kaggle_data['Full Bath'] = kaggle_data['Full Bath'].astype('object')\n",
    "kaggle_data['Half Bath'] = kaggle_data['Half Bath'].astype('object')\n",
    "kaggle_data['Exter Qual'] = kaggle_data['Exter Qual'].astype('object')\n",
    "kaggle_data['Exter Cond'] = kaggle_data['Exter Cond'].astype('object')\n",
    "kaggle_data['Overall Qual'] = kaggle_data['Overall Qual'].astype('object')\n",
    "kaggle_data['Overall Cond'] = kaggle_data['Overall Cond'].astype('object')\n",
    "kaggle_data['Garage Cars'] = kaggle_data['Garage Cars'].astype('object')\n",
    "kaggle_data['Bedroom AbvGr'] = kaggle_data['Bedroom AbvGr'].astype('object')\n",
    "kaggle_data['Kitchen AbvGr'] = kaggle_data['Kitchen AbvGr'].astype('object')\n",
    "kaggle_data['TotRms AbvGrd'] = kaggle_data['TotRms AbvGrd'].astype('object')\n",
    "kaggle_data['Fireplaces'] = kaggle_data['Fireplaces'].astype('object')\n",
    "\n"
   ]
  },
  {
   "cell_type": "markdown",
   "metadata": {},
   "source": [
    "I am converting the categorical numerical data into objects."
   ]
  },
  {
   "cell_type": "code",
   "execution_count": 64,
   "metadata": {},
   "outputs": [],
   "source": [
    "kaggle_data.drop(['Garage Yr Blt'], axis=1,inplace = True)\n",
    "kaggle_data.drop(['Fireplaces'], axis=1,inplace = True)"
   ]
  },
  {
   "cell_type": "markdown",
   "metadata": {},
   "source": [
    "I am dropping the Garage Yr Blt column, as it is extraneous since most houses have their garages constructed when they are constructed, thus rendering the column redundant. Additionally, I am dropping the Fireplaces column, as I believe it is extraneous as well "
   ]
  },
  {
   "cell_type": "code",
   "execution_count": 65,
   "metadata": {},
   "outputs": [],
   "source": [
    "kaggle_data['Overall Qual'].replace([1, 2, 3], 'Bad',inplace = True)\n",
    "kaggle_data['Overall Qual'].replace([4, 5, 6, 7], 'Good',inplace = True)\n",
    "kaggle_data['Overall Qual'].replace([8, 9, 10], 'Excellent',inplace = True)\n",
    "\n",
    "kaggle_data['Overall Cond'].replace([1, 2, 3], 'Bad',inplace = True)\n",
    "kaggle_data['Overall Cond'].replace([4, 5, 6,7], 'Good',inplace = True)\n",
    "kaggle_data['Overall Cond'].replace([8, 9, 10], 'Excellent',inplace = True)"
   ]
  },
  {
   "cell_type": "markdown",
   "metadata": {},
   "source": [
    "This takes the categorical variables of Overall Qual and Overall Cond and converts them into three distinct categories. "
   ]
  },
  {
   "cell_type": "markdown",
   "metadata": {},
   "source": [
    "Thus, I have replicated all of the data cleaning that I have done to the training data with regards to the test data. "
   ]
  },
  {
   "cell_type": "code",
   "execution_count": 66,
   "metadata": {},
   "outputs": [],
   "source": [
    "kaggle_dummies = pd.get_dummies(kaggle_data)"
   ]
  },
  {
   "cell_type": "code",
   "execution_count": 67,
   "metadata": {},
   "outputs": [],
   "source": [
    "training_dummies = pickle.load(open(\"../datasets/training_data_cleaned_X.pkl\", 'rb'))"
   ]
  },
  {
   "cell_type": "code",
   "execution_count": 68,
   "metadata": {},
   "outputs": [],
   "source": [
    "for i in set(training_dummies.columns.difference(kaggle_dummies.columns)):\n",
    "    kaggle_dummies[i] = 0\n",
    "    "
   ]
  },
  {
   "cell_type": "code",
   "execution_count": 69,
   "metadata": {},
   "outputs": [],
   "source": [
    "kaggle_dummies.drop(set(kaggle_dummies.columns.difference(training_dummies.columns)),1, inplace=True)"
   ]
  },
  {
   "cell_type": "code",
   "execution_count": 70,
   "metadata": {},
   "outputs": [],
   "source": [
    "kaggle_dummies = kaggle_dummies[training_dummies.columns]"
   ]
  },
  {
   "cell_type": "code",
   "execution_count": 71,
   "metadata": {},
   "outputs": [],
   "source": [
    "threshold = VarianceThreshold(.05)\n",
    "training_threshold = threshold.fit_transform(training_dummies)\n",
    "kaggle_threshold = threshold.transform(kaggle_dummies)"
   ]
  },
  {
   "cell_type": "code",
   "execution_count": 72,
   "metadata": {},
   "outputs": [],
   "source": [
    "training_threshold_ss = ss.fit_transform(training_threshold)\n",
    "kaggle_threshold_ss = ss.transform(kaggle_threshold)"
   ]
  },
  {
   "cell_type": "code",
   "execution_count": 73,
   "metadata": {},
   "outputs": [
    {
     "data": {
      "text/plain": [
       "RidgeCV(alphas=array([ 0.1,  1. , 10. ]), cv=5, fit_intercept=True,\n",
       "    gcv_mode=None, normalize=False, scoring=None, store_cv_values=False)"
      ]
     },
     "execution_count": 73,
     "metadata": {},
     "output_type": "execute_result"
    }
   ],
   "source": [
    "ridge_final = RidgeCV(cv=5)\n",
    "ridge_final.fit(training_threshold_ss, y)"
   ]
  },
  {
   "cell_type": "markdown",
   "metadata": {},
   "source": [
    "This fits the Ridge Regression model with 5 cross validation sets using my training data and sale price. "
   ]
  },
  {
   "cell_type": "code",
   "execution_count": 74,
   "metadata": {},
   "outputs": [],
   "source": [
    "predictions = ridge_final.predict(kaggle_threshold_ss)"
   ]
  },
  {
   "cell_type": "markdown",
   "metadata": {},
   "source": [
    "This generates a list of predictions using my kaggle data as the predictor variables. "
   ]
  },
  {
   "cell_type": "code",
   "execution_count": 75,
   "metadata": {},
   "outputs": [],
   "source": [
    "kaggle_submissions = pd.DataFrame(predictions, index=kaggle_data.index, columns=['SalePrice'])\n",
    "kaggle_submissions.sort_index(inplace=True)\n",
    "kaggle_submissions.to_csv('../datasets/kaggle_submission.csv')"
   ]
  },
  {
   "cell_type": "markdown",
   "metadata": {},
   "source": [
    "This creates the csv I will submit to Kaggle."
   ]
  },
  {
   "cell_type": "markdown",
   "metadata": {},
   "source": [
    "Thus, I have successfully applied the production model to my kaggle data and generated a csv of predictions to submit. "
   ]
  }
 ],
 "metadata": {
  "kernelspec": {
   "display_name": "Python 3",
   "language": "python",
   "name": "python3"
  },
  "language_info": {
   "codemirror_mode": {
    "name": "ipython",
    "version": 3
   },
   "file_extension": ".py",
   "mimetype": "text/x-python",
   "name": "python",
   "nbconvert_exporter": "python",
   "pygments_lexer": "ipython3",
   "version": "3.7.1"
  }
 },
 "nbformat": 4,
 "nbformat_minor": 2
}
